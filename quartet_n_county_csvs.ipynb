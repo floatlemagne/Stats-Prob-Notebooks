{
  "nbformat": 4,
  "nbformat_minor": 0,
  "metadata": {
    "colab": {
      "provenance": [],
      "toc_visible": true
    },
    "kernelspec": {
      "name": "python3",
      "display_name": "Python 3"
    },
    "language_info": {
      "name": "python"
    }
  },
  "cells": [
    {
      "cell_type": "code",
      "source": [
        "import pandas as pd\n",
        "import math"
      ],
      "metadata": {
        "id": "LPGOSNvoNp7C"
      },
      "execution_count": null,
      "outputs": []
    },
    {
      "cell_type": "code",
      "source": [
        "quartet = pd.read_csv('Quartet.csv')"
      ],
      "metadata": {
        "id": "csG3eauaOGmB"
      },
      "execution_count": null,
      "outputs": []
    },
    {
      "cell_type": "code",
      "source": [
        "import matplotlib.pyplot as plt"
      ],
      "metadata": {
        "id": "qKXJYne_OJhE"
      },
      "execution_count": null,
      "outputs": []
    },
    {
      "cell_type": "markdown",
      "source": [
        "Below is code for Quartet.csv"
      ],
      "metadata": {
        "id": "Q4H-C-F4WhYZ"
      }
    },
    {
      "cell_type": "code",
      "source": [
        "x1 = quartet['x1']; y1 = quartet['y1']\n",
        "x2 = quartet['x2']; y2 = quartet['y2']\n",
        "x3 = quartet['x3']; y3 = quartet['y3']\n",
        "x4 = quartet['x4']; y4 = quartet['y4']\n",
        "plt.scatter(x1,y1)\n",
        "plt.scatter(x2,y2)\n",
        "plt.scatter(x3,y3)\n",
        "plt.scatter(x4,y4)"
      ],
      "metadata": {
        "colab": {
          "base_uri": "https://localhost:8080/",
          "height": 448
        },
        "id": "S4dOiAQzOjCc",
        "outputId": "f2f40405-8870-4864-c589-1d867964ca96"
      },
      "execution_count": null,
      "outputs": [
        {
          "output_type": "execute_result",
          "data": {
            "text/plain": [
              "<matplotlib.collections.PathCollection at 0x7d221f1b4d90>"
            ]
          },
          "metadata": {},
          "execution_count": 5
        },
        {
          "output_type": "display_data",
          "data": {
            "text/plain": [
              "<Figure size 640x480 with 1 Axes>"
            ],
            "image/png": "[encoded data removed]"
          },
          "metadata": {}
        }
      ]
    },
    {
      "cell_type": "code",
      "source": [
        "# To find the mean of a set, we take the summation of all the elements and\n",
        "# divide that by the number of elements in the set\n",
        "mean_x1 = pd.Series.sum(x1)/len(x1);\n",
        "mean_x2 = pd.Series.sum(x2)/len(x2);\n",
        "mean_x3 = pd.Series.sum(x3)/len(x3);\n",
        "mean_x4 = pd.Series.sum(x4)/len(x4);\n",
        "\n",
        "mean_y1 = pd.Series.sum(y1)/len(y1);\n",
        "mean_y2 = pd.Series.sum(y2)/len(y2);\n",
        "mean_y3 = pd.Series.sum(y3)/len(y3);\n",
        "mean_y4 = pd.Series.sum(y4)/len(y4);\n",
        "\n",
        "print(mean_x1, mean_x2, mean_x3, mean_x4, mean_y1, mean_y2, mean_y3, mean_y4)"
      ],
      "metadata": {
        "colab": {
          "base_uri": "https://localhost:8080/"
        },
        "id": "7TaOPHe9OpmP",
        "outputId": "9d3b499e-6e0b-4244-8eb6-a28386861cba"
      },
      "execution_count": null,
      "outputs": [
        {
          "output_type": "stream",
          "name": "stdout",
          "text": [
            "9.0 9.0 9.0 9.0 7.500909090909093 7.50090909090909 7.5 7.500909090909091\n"
          ]
        }
      ]
    },
    {
      "cell_type": "code",
      "source": [
        "# To find the median of a set, we sort the set in increasing order and\n",
        "# find the middle value. If the set has an even number of elements, we\n",
        "# take the average of the two middle elements\n",
        "\n",
        "median_x1 = x1.median();\n",
        "median_x2 = x2.median();\n",
        "median_x3 = x3.median();\n",
        "median_x4 = x4.median();\n",
        "\n",
        "median_y1 = y1.median();\n",
        "median_y2 = y1.median();\n",
        "median_y3 = y1.median();\n",
        "median_y4 = y4.median();\n",
        "\n",
        "print(median_x1, median_x2, median_x3, median_x4, median_x1, median_x2, median_x3, median_x4)"
      ],
      "metadata": {
        "colab": {
          "base_uri": "https://localhost:8080/"
        },
        "id": "ypPPd1KVQsgI",
        "outputId": "0ef20991-25f0-479b-8337-decf4320c48a"
      },
      "execution_count": null,
      "outputs": [
        {
          "output_type": "stream",
          "name": "stdout",
          "text": [
            "9.0 9.0 9.0 8.0 9.0 9.0 9.0 8.0\n"
          ]
        }
      ]
    },
    {
      "cell_type": "code",
      "source": [
        "# To get the standard deviation of a set, subtract the mean from each element\n",
        "# and square the result, then compute the average of the square differences to\n",
        "# get the variance, which we finally square root to get the standard deviation\n",
        "sd_x1 = x1.std();\n",
        "sd_x2 = x2.std();\n",
        "sd_x3 = x3.std();\n",
        "sd_x4 = x4.std();\n",
        "\n",
        "sd_y1 = y1.std();\n",
        "sd_y2 = y2.std();\n",
        "sd_y3 = y3.std();\n",
        "sd_y4 = y4.std();\n",
        "\n",
        "print(sd_x1, sd_x2, sd_x3, sd_x4, sd_y1, sd_y2, sd_y3, sd_y4)"
      ],
      "metadata": {
        "colab": {
          "base_uri": "https://localhost:8080/"
        },
        "id": "1QlWVc-9Rpqk",
        "outputId": "0be5c80e-78be-4bb2-d4f0-34407d264ee3"
      },
      "execution_count": null,
      "outputs": [
        {
          "output_type": "stream",
          "name": "stdout",
          "text": [
            "3.3166247903554 3.3166247903554 3.3166247903554 3.3166247903554 2.031568135925815 2.0316567355016177 2.030423601123667 2.0305785113876023\n"
          ]
        }
      ]
    },
    {
      "cell_type": "markdown",
      "source": [
        "Below is code for CountyData.csv"
      ],
      "metadata": {
        "id": "lZNuKXIrWlJl"
      }
    },
    {
      "cell_type": "code",
      "source": [
        "county_data = pd.read_csv(\"CountyData.csv\")"
      ],
      "metadata": {
        "id": "ocm3eAs5S7Ew"
      },
      "execution_count": null,
      "outputs": []
    },
    {
      "cell_type": "code",
      "source": [
        "group1 = county_data[\"foreign_spoken_at_home\"]\n",
        "plt.hist(group1)"
      ],
      "metadata": {
        "colab": {
          "base_uri": "https://localhost:8080/",
          "height": 503
        },
        "id": "4PfOdHmDXJsy",
        "outputId": "3fda549a-d325-4bc0-a102-f3ebb4aaf627"
      },
      "execution_count": null,
      "outputs": [
        {
          "output_type": "execute_result",
          "data": {
            "text/plain": [
              "(array([2322.,  457.,  159.,   87.,   56.,   31.,   11.,   10.,    6.,\n",
              "           4.]),\n",
              " array([ 0. ,  9.6, 19.2, 28.8, 38.4, 48. , 57.6, 67.2, 76.8, 86.4, 96. ]),\n",
              " <BarContainer object of 10 artists>)"
            ]
          },
          "metadata": {},
          "execution_count": 45
        },
        {
          "output_type": "display_data",
          "data": {
            "text/plain": [
              "<Figure size 640x480 with 1 Axes>"
            ],
            "image/png": "[encoded data removed]"
          },
          "metadata": {}
        }
      ]
    },
    {
      "cell_type": "code",
      "source": [
        "median_fedspending = county_data[\"fed_spending\"].median()\n",
        "print(median_fedspending)"
      ],
      "metadata": {
        "colab": {
          "base_uri": "https://localhost:8080/"
        },
        "id": "e9U13TF5YGoW",
        "outputId": "6be88094-8cba-4f4b-f707-ba237190b506"
      },
      "execution_count": null,
      "outputs": [
        {
          "output_type": "stream",
          "name": "stdout",
          "text": [
            "214994.0\n"
          ]
        }
      ]
    },
    {
      "cell_type": "code",
      "source": [
        "y_county = county_data[\"poverty\"]; x_county = county_data[\"bachelors\"]\n",
        "plt.scatter(x_county,y_county)"
      ],
      "metadata": {
        "colab": {
          "base_uri": "https://localhost:8080/",
          "height": 448
        },
        "id": "9GVbQZBZYhv1",
        "outputId": "c93202ae-65d0-470d-9387-025961789e00"
      },
      "execution_count": null,
      "outputs": [
        {
          "output_type": "execute_result",
          "data": {
            "text/plain": [
              "<matplotlib.collections.PathCollection at 0x7d221c48d090>"
            ]
          },
          "metadata": {},
          "execution_count": 10
        },
        {
          "output_type": "display_data",
          "data": {
            "text/plain": [
              "<Figure size 640x480 with 1 Axes>"
            ],
            "image/png": "[encoded data removed]"
          },
          "metadata": {}
        }
      ]
    },
    {
      "cell_type": "code",
      "source": [
        "frac_above_30 = len(county_data[county_data[\"age_under_18\"]>0.3])/len(county_data[\"age_under_18\"])\n",
        "print(frac_above_30)"
      ],
      "metadata": {
        "colab": {
          "base_uri": "https://localhost:8080/"
        },
        "id": "_Td-V05hZZBv",
        "outputId": "53306f1e-db3c-4b0a-ebf5-e8a59ba72bd4"
      },
      "execution_count": null,
      "outputs": [
        {
          "output_type": "stream",
          "name": "stdout",
          "text": [
            "0.9996818326439707\n"
          ]
        }
      ]
    },
    {
      "cell_type": "markdown",
      "source": [
        "Below is code for question number 3"
      ],
      "metadata": {
        "id": "8tncf_PbaPkd"
      }
    },
    {
      "cell_type": "code",
      "source": [
        "houses_mean = 500000; houses_median = 440000; houses_std = 30000; num_houses = 24;\n",
        "new_house = 700000\n",
        "\n",
        "# New Mean\n",
        "houses_mean_new = ((num_houses*houses_mean)+new_house)/(num_houses+1)\n",
        "\n",
        "# New Std Dev\n",
        "houses_std_new = math.sqrt(((num_houses-1)*houses_std**2 + num_houses*(houses_mean-houses_mean_new)**2+(new_house-houses_mean_new)**2)/25)\n",
        "\n",
        "\n",
        "print(houses_mean_new, houses_std_new)"
      ],
      "metadata": {
        "colab": {
          "base_uri": "https://localhost:8080/"
        },
        "id": "_uMwe9HYZtQO",
        "outputId": "32f8d950-808d-4d10-8d3c-fe8454e05969"
      },
      "execution_count": null,
      "outputs": [
        {
          "output_type": "stream",
          "name": "stdout",
          "text": [
            "508000.0 48620.98312457287\n"
          ]
        }
      ]
    },
    {
      "cell_type": "code",
      "source": [],
      "metadata": {
        "id": "Ym-UMFg9canh"
      },
      "execution_count": null,
      "outputs": []
    }
  ]
}